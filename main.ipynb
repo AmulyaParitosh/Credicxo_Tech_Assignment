{
 "cells": [
  {
   "cell_type": "markdown",
   "metadata": {},
   "source": [
    "[![Open in Colab](https://colab.research.google.com/assets/colab-badge.svg)](https://colab.research.google.com/github/AmulyaParitosh/Credicxo_Tech_Assignment/blob/master/main.ipynb)"
   ]
  },
  {
   "cell_type": "code",
   "execution_count": 16,
   "metadata": {},
   "outputs": [],
   "source": [
    "import pandas as pd\n",
    "from bs4 import BeautifulSoup\n",
    "import requests\n",
    "import time\n",
    "import json\n",
    "import mysql.connector\n",
    "from IPython.display import clear_output"
   ]
  },
  {
   "cell_type": "code",
   "execution_count": 17,
   "metadata": {},
   "outputs": [],
   "source": [
    "df = pd.read_csv(\"Amazon Scraping - Sheet1.csv\", index_col=\"Unnamed: 0\")\n",
    "\n",
    "base_url = \"https://www.amazon.%s/dp/%s\"\n",
    "\n",
    "time_at_100 = []\n",
    "\n",
    "bad_index = set()\n",
    "\n",
    "storage = dict()\n",
    "\n",
    "mydb = mysql.connector.connect(\n",
    "  host=\"localhost\",\n",
    "  user=\"temp\",\n",
    "  password=\"temp123\",\n",
    "  database=\"CREDICXO\"\n",
    ")\n",
    "\n",
    "mycursor = mydb.cursor()\n",
    "sql = \"INSERT INTO data (id, title, img_url, price, details) VALUES (%s, %s, %s, %s, %s)\""
   ]
  },
  {
   "cell_type": "code",
   "execution_count": 18,
   "metadata": {},
   "outputs": [],
   "source": [
    "# def is_book(soup):\n",
    "#     t = soup.find(\"a\", class_=\"a-link-normal a-color-tertiary\").get_text().strip()\n",
    "#     return (t == \"Books\") or (t == \"Libros\") or (t == \"Livres\") or (t == \"Libri\")\n"
   ]
  },
  {
   "cell_type": "code",
   "execution_count": 19,
   "metadata": {},
   "outputs": [],
   "source": [
    "def get_title(soup):\n",
    "    return soup.find(\"span\", id=\"productTitle\").get_text().strip()\n",
    "\n"
   ]
  },
  {
   "cell_type": "code",
   "execution_count": 20,
   "metadata": {},
   "outputs": [],
   "source": [
    "def get_img_url(soup):\n",
    "    try:\n",
    "        img_url = soup.find(\"div\" ,id=\"main-image-container\").find(\"img\").get(\"src\").strip()\n",
    "    except:\n",
    "        try:\n",
    "            img_url = soup.find(\"img\", id=\"imgBlkFront\").get(\"src\")\n",
    "        except:\n",
    "            img_url = soup.find(\"img\", id=\"landingImage\").get(\"src\").strip()\n",
    "    return img_url"
   ]
  },
  {
   "cell_type": "code",
   "execution_count": 21,
   "metadata": {},
   "outputs": [],
   "source": [
    "def get_price(soup):\n",
    "    try:\n",
    "        try:\n",
    "            price = soup.find(\"span\" ,class_=\"a-size-base a-color-price a-color-price\").get_text().strip()\n",
    "        except:\n",
    "            price = soup.find_all(\"span\", class_=\"a-color-base\")[-1].get_text().strip()\n",
    "\n",
    "    except:\n",
    "        price = soup.find_all(\"span\", class_=\"a-size-base a-color-price\")[-1].get_text().strip()\n",
    "\n",
    "    return price"
   ]
  },
  {
   "cell_type": "code",
   "execution_count": 22,
   "metadata": {},
   "outputs": [],
   "source": [
    "def get_details(soup):\n",
    "    try:\n",
    "        dtls_list = soup.find_all(\"div\",id=\"detailBullets_feature_div\")[0]\n",
    "        dtls_list = dtls_list.find(\"ul\",class_=\"a-unordered-list a-nostyle a-vertical a-spacing-none detail-bullet-list\")\n",
    "        dtls_list = dtls_list.find_all(\"span\", class_=\"a-list-item\")\n",
    "\n",
    "        details = dict()\n",
    "\n",
    "        for dtl in dtls_list:\n",
    "            k,v = dtl.find_all(\"span\")\n",
    "            details[k.get_text().replace(\"\\u200f\",\"\").replace(\"\\u200e\",\"\").replace(\":\",'').strip()] = v.get_text().strip()\n",
    "            \n",
    "\n",
    "    except:\n",
    "        table = soup.find(\"table\" ,id=\"productDetails_techSpec_section_1\")\n",
    "        keys = [th.get_text().strip() for th in table.find_all(\"th\")]\n",
    "        values = [td.get_text().strip().replace(\"\\u200e\",\"\") for td in table.find_all(\"td\")]\n",
    "        details = dict(zip(keys,values))\n",
    "\n",
    "    return details"
   ]
  },
  {
   "cell_type": "code",
   "execution_count": 23,
   "metadata": {},
   "outputs": [],
   "source": [
    "def get_soup(i):\n",
    "\n",
    "    x = tuple(df.loc[i][[\"country\", \"Asin\"]])\n",
    "    url = base_url % (x)\n",
    "    result = requests.get(url, headers=headers)\n",
    "\n",
    "    assert result.status_code == 200, f\"{url} not available\"\n",
    "\n",
    "    data = result.text\n",
    "    soup = BeautifulSoup(data, \"html.parser\")\n",
    "\n",
    "    return soup.body"
   ]
  },
  {
   "cell_type": "code",
   "execution_count": 24,
   "metadata": {},
   "outputs": [],
   "source": [
    "def store_data(i, tries=0):\n",
    "    try:\n",
    "        soup = get_soup(i)\n",
    "\n",
    "        title = get_title(soup)\n",
    "        img_url = get_img_url(soup)\n",
    "        price = get_price(soup)\n",
    "        details = get_details(soup)\n",
    "\n",
    "        storage[str(df.loc[i][\"id\"])] = {\n",
    "            \"title\": title,\n",
    "            \"image_url\": img_url,\n",
    "            \"price\": price,\n",
    "            \"details\": details,\n",
    "        }\n",
    "\n",
    "        val = (int(df.loc[i]['id']), title, img_url, price, str(details))\n",
    "        mycursor.execute(sql, val)\n",
    "\n",
    "\n",
    "    except AssertionError as err:\n",
    "        print(err)\n",
    "\n",
    "    except Exception as exp:\n",
    "        print(\"Error at :\", i)\n",
    "        bad_index.add(i)\n",
    "        print(exp)\n",
    "        if tries < 2:\n",
    "            print(\"tried :\", tries + 2)\n",
    "            store_data(i, tries + 1)\n",
    "        else:\n",
    "            print(\"Tried maximum times\")"
   ]
  },
  {
   "cell_type": "code",
   "execution_count": 28,
   "metadata": {},
   "outputs": [],
   "source": [
    "headers = {\n",
    "    'User-Agent': 'Mozilla/5.0 (X11; Linux x86_64; rv:101.0) Gecko/20100101 Firefox/101.0',\n",
    "    'Accept': '*/*',\n",
    "    'Accept-Language': 'en-US,en;q=0.5',\n",
    "    # 'Accept-Encoding': 'gzip, deflate, br',\n",
    "    'Origin': 'https://www.amazon.fr',\n",
    "    'Connection': 'keep-alive',\n",
    "    'Referer': 'https://www.amazon.fr/',\n",
    "    'Sec-Fetch-Dest': 'script',\n",
    "    'Sec-Fetch-Mode': 'cors',\n",
    "    'Sec-Fetch-Site': 'cross-site',\n",
    "}"
   ]
  },
  {
   "cell_type": "code",
   "execution_count": null,
   "metadata": {},
   "outputs": [],
   "source": [
    "start = time.time()\n",
    "\n",
    "for i in range(700,1000):\n",
    "\n",
    "    store_data(i)\n",
    "\n",
    "    if i % 100 == 0:\n",
    "        tt = time.time() - start\n",
    "        time_at_100.append(tt)\n",
    "        start = time.time()\n",
    "        print(\"At :\", i)\n",
    "        print(\"time took :\", tt)"
   ]
  },
  {
   "cell_type": "code",
   "execution_count": 30,
   "metadata": {},
   "outputs": [],
   "source": [
    "with open(\"result.json\", \"w\") as f:\n",
    "    json.dump(storage, f)"
   ]
  },
  {
   "cell_type": "code",
   "execution_count": 31,
   "metadata": {},
   "outputs": [],
   "source": [
    "mydb.commit()"
   ]
  },
  {
   "cell_type": "code",
   "execution_count": 32,
   "metadata": {},
   "outputs": [
    {
     "name": "stdout",
     "output_type": "stream",
     "text": [
      "0.44241976737976074\n",
      "73.62571001052856\n",
      "94.46051812171936\n",
      "76.3008680343628\n",
      "0.5014393329620361\n",
      "68.99638438224792\n",
      "80.12688302993774\n",
      "0.46044325828552246\n",
      "64.15927863121033\n",
      "49.32078790664673\n"
     ]
    }
   ],
   "source": [
    "for t in time_at_100:\n",
    "    print(str(t))"
   ]
  },
  {
   "cell_type": "code",
   "execution_count": 33,
   "metadata": {},
   "outputs": [
    {
     "name": "stdout",
     "output_type": "stream",
     "text": [
      "bad index : set()\n"
     ]
    }
   ],
   "source": [
    "print(\"bad index :\", bad_index)"
   ]
  }
 ],
 "metadata": {
  "kernelspec": {
   "display_name": "Python 3.9.7 ('base')",
   "language": "python",
   "name": "python3"
  },
  "language_info": {
   "codemirror_mode": {
    "name": "ipython",
    "version": 3
   },
   "file_extension": ".py",
   "mimetype": "text/x-python",
   "name": "python",
   "nbconvert_exporter": "python",
   "pygments_lexer": "ipython3",
   "version": "3.9.7"
  },
  "orig_nbformat": 4,
  "vscode": {
   "interpreter": {
    "hash": "2da85442f610eb6be705ea2fcde90113d2979f686409d64cfea701da7585f7ac"
   }
  }
 },
 "nbformat": 4,
 "nbformat_minor": 2
}

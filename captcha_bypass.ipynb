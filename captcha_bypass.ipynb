{
 "cells": [
  {
   "cell_type": "markdown",
   "metadata": {},
   "source": [
    "[![Open in Colab](https://colab.research.google.com/assets/colab-badge.svg)](https://colab.research.google.com/github/AmulyaParitosh/Credicxo_Tech_Assignment/blob/master/captcha_bypass.ipynb)"
   ]
  },
  {
   "cell_type": "code",
   "execution_count": 7,
   "metadata": {},
   "outputs": [],
   "source": [
    "import time\n",
    "from selenium import webdriver\n",
    "from amazoncaptcha import AmazonCaptcha\n",
    "import urllib.request"
   ]
  },
  {
   "cell_type": "code",
   "execution_count": 8,
   "metadata": {},
   "outputs": [],
   "source": [
    "options = webdriver.ChromeOptions()\n",
    "options.add_experimental_option(\"useAutomationExtension\", False)\n",
    "options.add_experimental_option(\"excludeSwitches\", [\"enable-automation\"])\n",
    "\n",
    "\n",
    "driver_path = \"/home/encryptedbee/Downloads/chromedriver\""
   ]
  },
  {
   "cell_type": "code",
   "execution_count": 9,
   "metadata": {},
   "outputs": [
    {
     "name": "stderr",
     "output_type": "stream",
     "text": [
      "/tmp/ipykernel_55738/806928801.py:1: DeprecationWarning: executable_path has been deprecated, please pass in a Service object\n",
      "  driver = webdriver.Chrome(executable_path=driver_path, options=options)\n"
     ]
    }
   ],
   "source": [
    "driver = webdriver.Chrome(executable_path=driver_path, options=options)\n",
    "driver.get(\"https://www.amazon.com/errors/validateCaptcha\")"
   ]
  },
  {
   "cell_type": "code",
   "execution_count": 11,
   "metadata": {},
   "outputs": [
    {
     "name": "stderr",
     "output_type": "stream",
     "text": [
      "/tmp/ipykernel_55738/3881147111.py:1: DeprecationWarning: find_element_by_xpath is deprecated. Please use find_element(by=By.XPATH, value=xpath) instead\n",
      "  image = driver.find_element_by_xpath(\n"
     ]
    },
    {
     "name": "stdout",
     "output_type": "stream",
     "text": [
      "https://images-na.ssl-images-amazon.com/captcha/qujzzelu/Captcha_bykceesntb.jpg\n"
     ]
    },
    {
     "data": {
      "text/plain": [
       "('captcha.png', <http.client.HTTPMessage at 0x7f82ab65ce80>)"
      ]
     },
     "execution_count": 11,
     "metadata": {},
     "output_type": "execute_result"
    }
   ],
   "source": [
    "image = driver.find_element_by_xpath(\n",
    "    \"/html/body/div/div[1]/div[3]/div/div/form/div[1]/div/div/div[1]/img\"\n",
    ")\n",
    "\n",
    "image = image.get_attribute(\"src\")\n",
    "print(image)\n",
    "urllib.request.urlretrieve(image, \"captcha.png\")"
   ]
  },
  {
   "cell_type": "code",
   "execution_count": 12,
   "metadata": {},
   "outputs": [
    {
     "data": {
      "text/plain": [
       "'NALBGA'"
      ]
     },
     "execution_count": 12,
     "metadata": {},
     "output_type": "execute_result"
    }
   ],
   "source": [
    "captcha = AmazonCaptcha('captcha.png').solve()\n",
    "captcha"
   ]
  },
  {
   "cell_type": "code",
   "execution_count": 14,
   "metadata": {},
   "outputs": [
    {
     "name": "stderr",
     "output_type": "stream",
     "text": [
      "/tmp/ipykernel_55738/3369567767.py:1: DeprecationWarning: find_element_by_* commands are deprecated. Please use find_element() instead\n",
      "  cbox = driver.find_element_by_id(\"captchacharacters\")\n"
     ]
    }
   ],
   "source": [
    "cbox = driver.find_element_by_id(\"captchacharacters\")\n",
    "time.sleep(3)\n",
    "cbox.send_keys(captcha)\n",
    "time.sleep(3)\n",
    "cbox.submit()"
   ]
  },
  {
   "cell_type": "code",
   "execution_count": null,
   "metadata": {},
   "outputs": [],
   "source": [
    "driver.close()"
   ]
  }
 ],
 "metadata": {
  "kernelspec": {
   "display_name": "Python 3.9.7 ('base')",
   "language": "python",
   "name": "python3"
  },
  "language_info": {
   "codemirror_mode": {
    "name": "ipython",
    "version": 3
   },
   "file_extension": ".py",
   "mimetype": "text/x-python",
   "name": "python",
   "nbconvert_exporter": "python",
   "pygments_lexer": "ipython3",
   "version": "3.9.7"
  },
  "orig_nbformat": 4,
  "vscode": {
   "interpreter": {
    "hash": "2da85442f610eb6be705ea2fcde90113d2979f686409d64cfea701da7585f7ac"
   }
  }
 },
 "nbformat": 4,
 "nbformat_minor": 2
}
